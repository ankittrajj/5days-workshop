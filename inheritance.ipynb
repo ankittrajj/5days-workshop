{
 "cells": [
  {
   "cell_type": "code",
   "execution_count": 1,
   "id": "68a2cdc6",
   "metadata": {},
   "outputs": [],
   "source": [
    " class pc:\n",
    "    def __init__(self,name,age):\n",
    "        self.name = name\n",
    "        self.age = age \n",
    "class cc(pc):\n",
    "    def __init__(self,name,age,sal):\n",
    "        pc.__init__(self,name,age)\n",
    "        self.sal = sal\n",
    "c = cc(\"A\",12,2)"
   ]
  },
  {
   "cell_type": "code",
   "execution_count": 2,
   "id": "d6f4bb60",
   "metadata": {},
   "outputs": [
    {
     "data": {
      "text/plain": [
       "'A'"
      ]
     },
     "execution_count": 2,
     "metadata": {},
     "output_type": "execute_result"
    }
   ],
   "source": [
    "c.name"
   ]
  },
  {
   "cell_type": "code",
   "execution_count": 3,
   "id": "bac69dea",
   "metadata": {},
   "outputs": [
    {
     "data": {
      "text/plain": [
       "2"
      ]
     },
     "execution_count": 3,
     "metadata": {},
     "output_type": "execute_result"
    }
   ],
   "source": [
    "c.sal"
   ]
  },
  {
   "cell_type": "code",
   "execution_count": 4,
   "id": "a3fdd29d",
   "metadata": {},
   "outputs": [
    {
     "data": {
      "text/plain": [
       "12"
      ]
     },
     "execution_count": 4,
     "metadata": {},
     "output_type": "execute_result"
    }
   ],
   "source": [
    "c.age"
   ]
  },
  {
   "cell_type": "code",
   "execution_count": 5,
   "id": "8e92f83a",
   "metadata": {},
   "outputs": [],
   "source": [
    "class pc:\n",
    "    def __init__(self,name,age):\n",
    "        self.name = name\n",
    "        self.age = age \n",
    "class cc(pc):\n",
    "    def __init__(self,name,age,sal):\n",
    "        super().__init__(name,age)\n",
    "        self.sal = sal\n",
    "c = cc(\"A\",12,2)"
   ]
  },
  {
   "cell_type": "code",
   "execution_count": 6,
   "id": "6b98eb77",
   "metadata": {},
   "outputs": [
    {
     "data": {
      "text/plain": [
       "'A'"
      ]
     },
     "execution_count": 6,
     "metadata": {},
     "output_type": "execute_result"
    }
   ],
   "source": [
    "c.name"
   ]
  },
  {
   "cell_type": "code",
   "execution_count": 7,
   "id": "f409dbc5",
   "metadata": {},
   "outputs": [
    {
     "data": {
      "text/plain": [
       "2"
      ]
     },
     "execution_count": 7,
     "metadata": {},
     "output_type": "execute_result"
    }
   ],
   "source": [
    "c.sal"
   ]
  },
  {
   "cell_type": "markdown",
   "id": "b7616aec",
   "metadata": {},
   "source": [
    "# Encapsulation"
   ]
  },
  {
   "cell_type": "code",
   "execution_count": 15,
   "id": "3f0de093",
   "metadata": {},
   "outputs": [
    {
     "name": "stdout",
     "output_type": "stream",
     "text": [
      "a 34 56\n"
     ]
    }
   ],
   "source": [
    "class std:\n",
    "    def fun(self,emp_name,emp_age,avg_sal):\n",
    "        print(emp_name,emp_age,avg_sal)\n",
    "        \n",
    "    def  fun1(self,a,b):\n",
    "        c= a+b\n",
    "        return c\n",
    "    \n",
    "        \n",
    "s = std()\n",
    "s.fun(\"a\",34,56)"
   ]
  },
  {
   "cell_type": "code",
   "execution_count": 17,
   "id": "47ac7df7",
   "metadata": {},
   "outputs": [
    {
     "data": {
      "text/plain": [
       "21"
      ]
     },
     "execution_count": 17,
     "metadata": {},
     "output_type": "execute_result"
    }
   ],
   "source": [
    "s._fun1(1,20)"
   ]
  },
  {
   "cell_type": "code",
   "execution_count": null,
   "id": "ef2724cf",
   "metadata": {},
   "outputs": [],
   "source": []
  }
 ],
 "metadata": {
  "kernelspec": {
   "display_name": "Python 3 (ipykernel)",
   "language": "python",
   "name": "python3"
  },
  "language_info": {
   "codemirror_mode": {
    "name": "ipython",
    "version": 3
   },
   "file_extension": ".py",
   "mimetype": "text/x-python",
   "name": "python",
   "nbconvert_exporter": "python",
   "pygments_lexer": "ipython3",
   "version": "3.9.12"
  }
 },
 "nbformat": 4,
 "nbformat_minor": 5
}

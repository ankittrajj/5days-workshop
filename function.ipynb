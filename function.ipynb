{
 "cells": [
  {
   "cell_type": "code",
   "execution_count": 1,
   "id": "2e35a7be",
   "metadata": {},
   "outputs": [],
   "source": [
    "def greet():\n",
    "    print(\"hello , hi\")"
   ]
  },
  {
   "cell_type": "code",
   "execution_count": 2,
   "id": "270f4190",
   "metadata": {},
   "outputs": [
    {
     "name": "stdout",
     "output_type": "stream",
     "text": [
      "hello , hi\n"
     ]
    }
   ],
   "source": [
    "greet()"
   ]
  },
  {
   "cell_type": "code",
   "execution_count": 3,
   "id": "d97892ad",
   "metadata": {},
   "outputs": [],
   "source": [
    "# no arg no return \n",
    "# with arg no return\n",
    "# with arg with return\n",
    "# no arg with return\n",
    "\n",
    "\n"
   ]
  },
  {
   "cell_type": "code",
   "execution_count": 6,
   "id": "dbdfe42b",
   "metadata": {},
   "outputs": [
    {
     "name": "stdout",
     "output_type": "stream",
     "text": [
      "68\n"
     ]
    }
   ],
   "source": [
    "def add():\n",
    "    a = 8\n",
    "    b = 60\n",
    "    c = a+b\n",
    "    print(c)\n",
    "    \n",
    "add()"
   ]
  },
  {
   "cell_type": "code",
   "execution_count": 8,
   "id": "e7290e08",
   "metadata": {},
   "outputs": [
    {
     "name": "stdout",
     "output_type": "stream",
     "text": [
      "3\n"
     ]
    }
   ],
   "source": [
    "def add(a,b):\n",
    "    c = a+b\n",
    "    print(c)\n",
    "    \n",
    "add(1,2)"
   ]
  },
  {
   "cell_type": "code",
   "execution_count": 12,
   "id": "f27436bb",
   "metadata": {},
   "outputs": [
    {
     "data": {
      "text/plain": [
       "13"
      ]
     },
     "execution_count": 12,
     "metadata": {},
     "output_type": "execute_result"
    }
   ],
   "source": [
    " #with arg with return\n",
    "def add(a,b):\n",
    "    c = a+b\n",
    "    return (c)\n",
    "    print(\"hello bhai\")\n",
    "    \n",
    "\n",
    "    \n",
    "add(9,4)"
   ]
  },
  {
   "cell_type": "code",
   "execution_count": 13,
   "id": "249ec812",
   "metadata": {},
   "outputs": [
    {
     "name": "stdout",
     "output_type": "stream",
     "text": [
      "op code hai bhai\n"
     ]
    }
   ],
   "source": [
    "print(\"op code hai bhai\")"
   ]
  },
  {
   "cell_type": "code",
   "execution_count": 14,
   "id": "ac8abfb1",
   "metadata": {},
   "outputs": [
    {
     "ename": "SyntaxError",
     "evalue": "'return' outside function (2853661835.py, line 1)",
     "output_type": "error",
     "traceback": [
      "\u001b[1;36m  Input \u001b[1;32mIn [14]\u001b[1;36m\u001b[0m\n\u001b[1;33m    return(\"hello colg wallo!!\")\u001b[0m\n\u001b[1;37m    ^\u001b[0m\n\u001b[1;31mSyntaxError\u001b[0m\u001b[1;31m:\u001b[0m 'return' outside function\n"
     ]
    }
   ],
   "source": [
    "return(\"hello colg wallo!!\")"
   ]
  },
  {
   "cell_type": "code",
   "execution_count": 15,
   "id": "a03a1db2",
   "metadata": {},
   "outputs": [
    {
     "data": {
      "text/plain": [
       "17"
      ]
     },
     "execution_count": 15,
     "metadata": {},
     "output_type": "execute_result"
    }
   ],
   "source": [
    "def add():\n",
    "    a = 9\n",
    "    b = 8\n",
    "    c = a+b\n",
    "    return c\n",
    "add()"
   ]
  },
  {
   "cell_type": "code",
   "execution_count": 22,
   "id": "7e92a73d",
   "metadata": {},
   "outputs": [
    {
     "ename": "SyntaxError",
     "evalue": "non-default argument follows default argument (588542967.py, line 1)",
     "output_type": "error",
     "traceback": [
      "\u001b[1;36m  Input \u001b[1;32mIn [22]\u001b[1;36m\u001b[0m\n\u001b[1;33m    def add(x=3,y):\u001b[0m\n\u001b[1;37m                 ^\u001b[0m\n\u001b[1;31mSyntaxError\u001b[0m\u001b[1;31m:\u001b[0m non-default argument follows default argument\n"
     ]
    }
   ],
   "source": [
    "def add(x=3,y):\n",
    "    z = x+y\n",
    "    return z\n",
    "\n",
    "add(3)"
   ]
  },
  {
   "cell_type": "code",
   "execution_count": 19,
   "id": "556f417a",
   "metadata": {},
   "outputs": [
    {
     "data": {
      "text/plain": [
       "15"
      ]
     },
     "execution_count": 19,
     "metadata": {},
     "output_type": "execute_result"
    }
   ],
   "source": [
    "add(9,6)"
   ]
  },
  {
   "cell_type": "code",
   "execution_count": 21,
   "id": "050eb98b",
   "metadata": {},
   "outputs": [
    {
     "data": {
      "text/plain": [
       "11"
      ]
     },
     "execution_count": 21,
     "metadata": {},
     "output_type": "execute_result"
    }
   ],
   "source": [
    "add(7,4)"
   ]
  },
  {
   "cell_type": "code",
   "execution_count": 23,
   "id": "10e533a3",
   "metadata": {},
   "outputs": [
    {
     "data": {
      "text/plain": [
       "12"
      ]
     },
     "execution_count": 23,
     "metadata": {},
     "output_type": "execute_result"
    }
   ],
   "source": [
    "add(4,8)"
   ]
  },
  {
   "cell_type": "markdown",
   "id": "9ab50e7b",
   "metadata": {},
   "source": [
    "# OOPS"
   ]
  },
  {
   "cell_type": "code",
   "execution_count": 28,
   "id": "68dbba4c",
   "metadata": {},
   "outputs": [
    {
     "name": "stdout",
     "output_type": "stream",
     "text": [
      "('asd',) (34,) 89\n"
     ]
    },
    {
     "data": {
      "text/plain": [
       "<__main__.std at 0x2367c294190>"
      ]
     },
     "execution_count": 28,
     "metadata": {},
     "output_type": "execute_result"
    }
   ],
   "source": [
    "class std:\n",
    "    name = 'asd',\n",
    "    age = 34,\n",
    "    marks = 89\n",
    "    print(name,age,marks)\n",
    "    \n",
    "std()"
   ]
  },
  {
   "cell_type": "code",
   "execution_count": 25,
   "id": "03342708",
   "metadata": {},
   "outputs": [
    {
     "ename": "NameError",
     "evalue": "name 'deeksha' is not defined",
     "output_type": "error",
     "traceback": [
      "\u001b[1;31m---------------------------------------------------------------------------\u001b[0m",
      "\u001b[1;31mNameError\u001b[0m                                 Traceback (most recent call last)",
      "Input \u001b[1;32mIn [25]\u001b[0m, in \u001b[0;36m<cell line: 1>\u001b[1;34m()\u001b[0m\n\u001b[1;32m----> 1\u001b[0m \u001b[43mdeeksha\u001b[49m\n",
      "\u001b[1;31mNameError\u001b[0m: name 'deeksha' is not defined"
     ]
    }
   ],
   "source": [
    "deeksha"
   ]
  },
  {
   "cell_type": "code",
   "execution_count": 32,
   "id": "411c7a82",
   "metadata": {},
   "outputs": [
    {
     "data": {
      "text/plain": [
       "21"
      ]
     },
     "execution_count": 32,
     "metadata": {},
     "output_type": "execute_result"
    }
   ],
   "source": [
    "class add:\n",
    "    def fun(self,a,b):\n",
    "        c = a+b\n",
    "        return c\n",
    "    \n",
    "a = add()\n",
    "a.fun(1,20)"
   ]
  },
  {
   "cell_type": "code",
   "execution_count": 33,
   "id": "95970acb",
   "metadata": {},
   "outputs": [],
   "source": [
    "# constructor ---- > \n",
    "\n",
    "class std:\n",
    "    def __init__(self,name,age,marks):\n",
    "        self.name = name\n",
    "        self.age = age\n",
    "        self.marks = marks\n",
    "        \n",
    "s = std('A',23,90)"
   ]
  },
  {
   "cell_type": "code",
   "execution_count": 34,
   "id": "4e755bba",
   "metadata": {},
   "outputs": [
    {
     "data": {
      "text/plain": [
       "'A'"
      ]
     },
     "execution_count": 34,
     "metadata": {},
     "output_type": "execute_result"
    }
   ],
   "source": [
    "s.name"
   ]
  },
  {
   "cell_type": "code",
   "execution_count": 35,
   "id": "d844eabe",
   "metadata": {},
   "outputs": [
    {
     "data": {
      "text/plain": [
       "23"
      ]
     },
     "execution_count": 35,
     "metadata": {},
     "output_type": "execute_result"
    }
   ],
   "source": [
    "s.age"
   ]
  },
  {
   "cell_type": "code",
   "execution_count": 36,
   "id": "2620059a",
   "metadata": {},
   "outputs": [
    {
     "data": {
      "text/plain": [
       "90"
      ]
     },
     "execution_count": 36,
     "metadata": {},
     "output_type": "execute_result"
    }
   ],
   "source": [
    "s.marks"
   ]
  },
  {
   "cell_type": "code",
   "execution_count": null,
   "id": "3565a225",
   "metadata": {},
   "outputs": [],
   "source": [
    "#wap to find the avg marks of a student with the help of \n",
    "# oops & function."
   ]
  }
 ],
 "metadata": {
  "kernelspec": {
   "display_name": "Python 3 (ipykernel)",
   "language": "python",
   "name": "python3"
  },
  "language_info": {
   "codemirror_mode": {
    "name": "ipython",
    "version": 3
   },
   "file_extension": ".py",
   "mimetype": "text/x-python",
   "name": "python",
   "nbconvert_exporter": "python",
   "pygments_lexer": "ipython3",
   "version": "3.9.12"
  }
 },
 "nbformat": 4,
 "nbformat_minor": 5
}
